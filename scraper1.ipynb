{
 "cells": [
  {
   "cell_type": "code",
   "execution_count": 13,
   "id": "0cae5b57-3588-4cd0-8641-1756fa32b7fe",
   "metadata": {},
   "outputs": [],
   "source": [
    "import requests\n",
    "from bs4 import BeautifulSoup"
   ]
  },
  {
   "cell_type": "code",
   "execution_count": 20,
   "id": "79f357b8-9b0c-4f22-99be-45f701c7f776",
   "metadata": {},
   "outputs": [],
   "source": [
    "response=requests.get('https://www.flipkart.com/apple-iphone-13-midnight-128-gb/p/itmca361aab1c5b0?pid=MOBG6VF5Q82T3XRS&lid=LSTMOBG6VF5Q82T3XRSOXJLM9&marketplace=FLIPKART&store=tyy%2F4io&spotlightTagId=default_BestsellerId_tyy%2F4io&srno=b_1_1&otracker=browse&fm=organic&iid=84a29866-d52f-4af3-8490-0aa5dd45ad92.MOBG6VF5Q82T3XRS.SEARCH&ppt=browse&ppn=browse&ssid=t0p73ksakw0000001746460403380')"
   ]
  },
  {
   "cell_type": "code",
   "execution_count": 21,
   "id": "de9398d6-368b-4e58-b8e9-9f64528702a9",
   "metadata": {},
   "outputs": [
    {
     "data": {
      "text/plain": [
       "<Response [200]>"
      ]
     },
     "execution_count": 21,
     "metadata": {},
     "output_type": "execute_result"
    }
   ],
   "source": [
    "response"
   ]
  },
  {
   "cell_type": "code",
   "execution_count": 22,
   "id": "6febf5aa-93d7-48b0-996e-b5500c744477",
   "metadata": {},
   "outputs": [],
   "source": [
    "soup = BeautifulSoup(response.text, 'html.parser')"
   ]
  },
  {
   "cell_type": "code",
   "execution_count": 23,
   "id": "653d44db-f17c-4d25-a9b4-31ada3dde9ac",
   "metadata": {
    "collapsed": true,
    "jupyter": {
     "outputs_hidden": true
    }
   },
   "outputs": [
    {
     "name": "stdout",
     "output_type": "stream",
     "text": [
      "Awesome phone Excellent camera qualityREAD MORE\n",
      "\n",
      "\n",
      "Nice upgrade!!Design superCamera is decentPerformance superBattery life is greatREAD MORE\n",
      "\n",
      "\n",
      "Happy to have this phoneREAD MORE\n",
      "\n",
      "\n",
      "I switch to ios from android after 10 years so this review might help for migratorsIt’s been a month using the iPhone13 and this was my experience1. Design - its simple and no nonsense design . Expect white and pink rest of the colours are fingerprint magnets.  I have seen all the colours and I highly recommend the pink . It’s so light pink which makes it not girlish. See it for yourself it really looks so premium in light pink colour. For rest of it except white the aluminium frame wil...READ MORE\n",
      "\n",
      "\n",
      "Awesome camera..I m love  itREAD MORE\n",
      "\n",
      "\n",
      "LOOK - Its my first love apple i phone 13, first time purchase this phone but its look awesome in white colour love it.  hand feel too much premium.CAMERA - Mind blowing camera performance font camera and rear cameras take too much awesome qualities pictures . Night mode is supergood low light performance impressed mePERFORMANCE - its bionic a15 chipset faster ,have 60hz refresh rate but its beatable 120hz DISPLAY - uts OLD XDR RETINA display too much good look display i get 10 of 10 for d...READ MORE\n",
      "\n",
      "\n",
      "Best phone in recent times I have used in my lifeREAD MORE\n",
      "\n",
      "\n",
      "Awesome battery backup amazing camera, a all day batter backup  improved and brilliant IOs 16.1 oled display dolby speakers and lot more, just close your eyes and go for it. One of the best handy smartphones ever and in great discount given by flipkart in big billion days 🔥READ MORE\n",
      "\n",
      "\n",
      "Best phone available at this price point.Camera is comparable with entry level DSLR(marvellous dynamic range)The performance is unmatchable.Shifted to iOS after 10 years of premium android smartphones.Go  for it without any second thought.READ MORE\n",
      "\n",
      "\n",
      "Amazing beast....As expected , didn't disappoint me,Had to sell hard chunk of kidneys to get it !!;pCamera quality is definitely a super upgradeBattery is super.. easily last throughout the day with heavy usage.Light weight looks stylish what else you need??Starlight color just wow!!!Apple it would have been better if you should  have given an adaptor. Increase 2k price and give it in box!!!Simple ....Edit 1 : After 14 days of usage highly satisfied with battery performance, Last thr...READ MORE\n",
      "\n",
      "\n"
     ]
    }
   ],
   "source": [
    "Reviews=soup.findAll('div',{'class' : 'ZmyHeo'});\n",
    "for review in Reviews:\n",
    "    print(review.get_text() + '\\n\\n')"
   ]
  },
  {
   "cell_type": "code",
   "execution_count": 27,
   "id": "4fe10722-26ca-4f3a-9382-5c3a76312a83",
   "metadata": {},
   "outputs": [
    {
     "name": "stdout",
     "output_type": "stream",
     "text": [
      "5\n",
      "\n",
      "5\n",
      "\n",
      "5\n",
      "\n",
      "5\n",
      "\n",
      "5\n",
      "\n",
      "5\n",
      "\n",
      "5\n",
      "\n",
      "5\n",
      "\n",
      "5\n",
      "\n",
      "5\n",
      "\n"
     ]
    }
   ],
   "source": [
    "Rating=soup.findAll('div',{'class':'XQDdHH Ga3i8K'});\n",
    "for i in Rating:\n",
    "    print(i.get_text() + '\\n')\n"
   ]
  },
  {
   "cell_type": "code",
   "execution_count": 28,
   "id": "69081872-2f52-4610-a31a-fe3d6701c391",
   "metadata": {},
   "outputs": [
    {
     "name": "stdout",
     "output_type": "stream",
     "text": [
      "Pushpita Mayra\n",
      "\n",
      "Nikil Ojha\n",
      "\n",
      "Flipkart Customer\n",
      "\n",
      "Mahim Chauhan\n",
      "\n",
      "Ajay Kr\n",
      "\n",
      "Mahesh Jaiswara\n",
      "\n",
      "Tulasiram SABBAVARAPU\n",
      "\n",
      "Arnab Das\n",
      "\n",
      "Biswabandhu Debnath\n",
      "\n",
      "Vaibhav  Raj\n",
      "\n"
     ]
    }
   ],
   "source": [
    "cust_name=soup.findAll('p',{'class': '_2NsDsF AwS1CA'});\n",
    "for i in cust_name:\n",
    "    print(i.get_text() + '\\n')"
   ]
  },
  {
   "cell_type": "code",
   "execution_count": null,
   "id": "b09be4b0-8cd1-4960-a89e-bfdfb8995f46",
   "metadata": {},
   "outputs": [],
   "source": []
  }
 ],
 "metadata": {
  "kernelspec": {
   "display_name": "Python 3 (ipykernel)",
   "language": "python",
   "name": "python3"
  },
  "language_info": {
   "codemirror_mode": {
    "name": "ipython",
    "version": 3
   },
   "file_extension": ".py",
   "mimetype": "text/x-python",
   "name": "python",
   "nbconvert_exporter": "python",
   "pygments_lexer": "ipython3",
   "version": "3.12.7"
  }
 },
 "nbformat": 4,
 "nbformat_minor": 5
}
